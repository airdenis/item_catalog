{
 "cells": [
  {
   "cell_type": "markdown",
   "metadata": {},
   "source": [
    "# LESSON 2: More free courses\n",
    "\n",
    "* -[Web Accessibility](https://www.udacity.com/course/web-accessibility--ud891) *advanced*\n",
    "* [Intro to JavaScript](https://classroom.udacity.com/courses/ud803) *beginner*\n",
    "* [Website Performance Optimization](https://www.udacity.com/course/website-performance-optimization--ud884) *intermediate*\n",
    "* [Front End Frameworks](https://www.udacity.com/course/front-end-frameworks--ud894) *advanced*\n",
    "* [ES6 - JavaScript Improved](https://www.udacity.com/course/es6-javascript-improved--ud356)\n",
    "* [Object-Oriented JavaScript](https://www.udacity.com/course/object-oriented-javascript--ud015)\n",
    "* [JavaScript Promises](https://www.udacity.com/course/javascript-promises--ud898)\n",
    "* [HTML5 Canvas](https://www.udacity.com/course/html5-canvas--ud292) *beginner*\n",
    "* -[JavaScript Design Patterns](https://www.udacity.com/course/javascript-design-patterns--ud989) *advanced*\n",
    "* -[Intro to AJAX](https://www.udacity.com/course/intro-to-ajax--ud110) *intermediate*\n",
    "* [JavaScript and the DOM](https://www.udacity.com/course/javascript-and-the-dom--ud117) *intermediate*\n",
    "* [Intro to jQuery](https://www.udacity.com/course/intro-to-jquery--ud245) *intermediate*\n",
    "* [Object-Oriented JavaScript](https://www.udacity.com/course/object-oriented-javascript--ud711) *intermediate*\n",
    "* [JavaScript Testing](https://www.udacity.com/course/javascript-testing--ud549) *intermediate*\n",
    "* [Asynchronous JavaScript Requests](https://www.udacity.com/course/asynchronous-javascript-requests--ud109) *intermediate*"
   ]
  },
  {
   "cell_type": "code",
   "execution_count": null,
   "metadata": {},
   "outputs": [],
   "source": []
  }
 ],
 "metadata": {
  "kernelspec": {
   "display_name": "Python 2",
   "language": "python",
   "name": "python2"
  },
  "language_info": {
   "codemirror_mode": {
    "name": "ipython",
    "version": 3
   },
   "file_extension": ".py",
   "mimetype": "text/x-python",
   "name": "python",
   "nbconvert_exporter": "python",
   "pygments_lexer": "ipython3",
   "version": "3.7.0"
  }
 },
 "nbformat": 4,
 "nbformat_minor": 2
}
